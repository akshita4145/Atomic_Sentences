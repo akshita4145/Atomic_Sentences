{
 "cells": [
  {
   "cell_type": "code",
   "execution_count": 4,
   "metadata": {},
   "outputs": [
    {
     "name": "stdout",
     "output_type": "stream",
     "text": [
      "read\n"
     ]
    }
   ],
   "source": [
    "import pandas as pd\n",
    "import spacy as sp\n",
    "\n",
    "tokens = pd.read_csv(\"../data/tokenized_data.csv\")\n",
    "nlp = sp.load(\"en_core_web_sm\")\n",
    "\n",
    "print(\"read\")"
   ]
  },
  {
   "cell_type": "code",
   "execution_count": null,
   "metadata": {},
   "outputs": [],
   "source": [
    "def atomic_sentence_extract(doc):\n",
    "    atomic_sentences = []\n",
    "\n",
    "    for sentence in doc.sents:\n",
    "        #extract the subjects and objects and the main verb ROOT\n",
    "        ##first get the subjects.\n",
    "\n",
    "        subjects = []\n",
    "        for tok in sentence.root.lefts:\n",
    "            if tok.dep_ in (\"nsubj\", \"nsubpass\"):\n",
    "                subjects.append(tok.text)\n",
    "        if subjects.len() == 0:\n",
    "            subjects = [\"X\"]\n",
    "\n",
    "        #get the objects/complements\n",
    "        objects = []\n",
    "        for tok in sentence.root.right:\n",
    "            if tok.dep_ in (\"dobj\", \"attr\", \"prep\", \"xcomp\"):\n",
    "                objects.append(tok.text)\n",
    "        if objects.len() == 0:\n",
    "            objects = [\"X\"]\n",
    "\n",
    "        #also want to separate relative clauses\n",
    "        for tok in sentence:\n",
    "            if tok.dep_ in (\"relcl\", \"advcl\", \"ccomp\"):\n",
    "                relative_clause = \" \".join([t.text for t in tok.subtree])\n",
    "                atomic_sentences.append(relative_clause)\n",
    "\n",
    "        #now we want to combine subjs/objs to create the other atomic sentences\n",
    "        atomic = f\"{subjects[0]} {sentence.root.lemma_} {' '.join(objects)}\".strip()\n",
    "        atomic_sentences.append(atomic)"
   ]
  }
 ],
 "metadata": {
  "kernelspec": {
   "display_name": "Python 3",
   "language": "python",
   "name": "python3"
  },
  "language_info": {
   "codemirror_mode": {
    "name": "ipython",
    "version": 3
   },
   "file_extension": ".py",
   "mimetype": "text/x-python",
   "name": "python",
   "nbconvert_exporter": "python",
   "pygments_lexer": "ipython3",
   "version": "3.12.1"
  }
 },
 "nbformat": 4,
 "nbformat_minor": 2
}
