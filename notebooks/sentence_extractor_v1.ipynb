{
 "cells": [
  {
   "cell_type": "code",
   "execution_count": 5,
   "metadata": {},
   "outputs": [
    {
     "name": "stdout",
     "output_type": "stream",
     "text": [
      "read\n"
     ]
    }
   ],
   "source": [
    "import pandas as pd\n",
    "import spacy as sp\n",
    "\n",
    "tokens = pd.read_csv(\"../data/tokenized_data.csv\")\n",
    "nlp = sp.load(\"en_core_web_sm\")\n",
    "\n",
    "print(\"read\")"
   ]
  },
  {
   "cell_type": "code",
   "execution_count": 9,
   "metadata": {},
   "outputs": [],
   "source": [
    "\n",
    "###combined strategy from earlier preprocessing code\n",
    "def clean_clause(tokens):\n",
    "    text = \" \".join([t.text for t in tokens])\n",
    "    text = text.replace(\" ,\", \",\").replace(\"  \", \" \")\n",
    "    return text.strip()\n",
    "\n",
    "def atomic_sentence_extract(doc):\n",
    "    atomic_sentences = []\n",
    "\n",
    "    for sent in doc.sents:\n",
    "        root = sent.root\n",
    "\n",
    "        ###wwant to find the main clause (so main subject verb object)\n",
    "        subjects = [t.text for t in root.lefts if t.dep_ in (\"nsubj\",\"nsubjpass\")]\n",
    "        subj = subjects[0] if subjects else \"X\"\n",
    "        main_clause_tokens = [tok for tok in root.subtree if tok.head == root or tok == root]\n",
    "        main_clause_text = clean_clause(main_clause_tokens)\n",
    "        if main_clause_text not in atomic_sentences:\n",
    "            atomic_sentences.append(main_clause_text)\n",
    "\n",
    "        #dealing w relative clauses (relcl)\n",
    "        for tok in sent:\n",
    "            if tok.dep_ == \"relcl\":\n",
    "                clause_tokens = list(tok.subtree)\n",
    "\n",
    "\n",
    "                #all atomic sentences need a subject, so we want to check if a subject (nsubj) exists\n",
    "                if not any(t.dep_ in (\"nsubj\",\"nsubjpass\") for t in clause_tokens):\n",
    "                    clause_tokens = [nlp(subj)[0]] + clause_tokens\n",
    "                clause_text = clean_clause(clause_tokens)\n",
    "\n",
    "                #if it doesnt't then we have to add one\n",
    "                if clause_text not in atomic_sentences:\n",
    "                    atomic_sentences.append(clause_text)\n",
    "\n",
    "        #Prepositional/location clauses (prep + pobj)\n",
    "        for prep in [t for t in sent if t.dep_ == \"prep\"]:\n",
    "            objs = [c for c in prep.children if c.dep_ == \"pobj\"]\n",
    "            for pobj in objs:\n",
    "                clause_tokens = [prep] + list(pobj.subtree)\n",
    "                clause_text = clean_clause([nlp(subj)[0]] + clause_tokens)\n",
    "                if clause_text not in atomic_sentences:\n",
    "                    atomic_sentences.append(clause_text)\n",
    "\n",
    "        # Appositions (attr/appos)\n",
    "        for tok in sent:\n",
    "            if tok.dep_ in (\"attr\",\"appos\") and tok.pos_ in (\"NOUN\",\"PROPN\"):\n",
    "                fact = f\"{subj} is {tok.text}\"\n",
    "                if fact not in atomic_sentences:\n",
    "                    atomic_sentences.append(fact)\n",
    "\n",
    "    return atomic_sentences"
   ]
  },
  {
   "cell_type": "code",
   "execution_count": 10,
   "metadata": {},
   "outputs": [],
   "source": [
    "all_sentences = []\n",
    "\n",
    "for col, row in tokens.iterrows():\n",
    "    sentence_id = row[\"sentence_id\"]\n",
    "    sentence_text = row[\"sentence_text\"]\n",
    "\n",
    "    doc = nlp(sentence_text)\n",
    "\n",
    "    atomic_sentences = atomic_sentence_extract(doc)\n",
    "\n",
    "    for sentence in atomic_sentences:\n",
    "        all_sentences.append({\n",
    "            \"sentence_id\": sentence_id,\n",
    "            \"atomic_sentence\": sentence\n",
    "        })"
   ]
  },
  {
   "cell_type": "code",
   "execution_count": 11,
   "metadata": {},
   "outputs": [
    {
     "name": "stdout",
     "output_type": "stream",
     "text": [
      "Atomic sentences extraction complete. Saved to 'split_sentences_v1.csv'.\n"
     ]
    }
   ],
   "source": [
    "df_atomic = pd.DataFrame(all_sentences)\n",
    "\n",
    "df_atomic.to_csv('../data/split_sentences_v1.csv', index=False)\n",
    "\n",
    "print(\"Atomic sentences extraction complete. Saved to 'split_sentences_v1.csv'.\")"
   ]
  },
  {
   "cell_type": "code",
   "execution_count": null,
   "metadata": {},
   "outputs": [],
   "source": [
    "\"\"\"\"\n",
    "def atomic_sentence_extract(doc):\n",
    "    atomic_sentences = []\n",
    "\n",
    "    for sentence in doc.sents:\n",
    "        #extract the subjects and objects and the main verb ROOT\n",
    "        ##first get the subjects.\n",
    "\n",
    "        subjects = []\n",
    "        for tok in sentence.root.lefts:\n",
    "            if tok.dep_ in (\"nsubj\", \"nsubpass\"):\n",
    "                subjects.append(tok.text)\n",
    "        if not subjects:\n",
    "            subjects = [\"X\"]\n",
    "\n",
    "        #get the objects/complements\n",
    "        objects = []\n",
    "        for tok in sentence.root.rights:\n",
    "            if tok.dep_ in (\"dobj\", \"attr\", \"prep\", \"xcomp\"):\n",
    "                objects.append(tok.text)\n",
    "        if not objects:\n",
    "            objects = [\"X\"]\n",
    "\n",
    "        #also want to separate relative clauses\n",
    "        for tok in sentence:\n",
    "            if tok.dep_ in (\"relcl\", \"advcl\", \"ccomp\"):\n",
    "                relative_clause = \" \".join([t.text for t in tok.subtree])\n",
    "                atomic_sentences.append(relative_clause)\n",
    "\n",
    "        #now we want to combine subjs/objs to create the other atomic sentences\n",
    "        atomic = f\"{subjects[0]} {sentence.root.lemma_} {' '.join(objects)}\".strip()\n",
    "        atomic_sentences.append(atomic)\n",
    "\n",
    "    return atomic_sentences\n",
    "\n",
    "\"\"\""
   ]
  }
 ],
 "metadata": {
  "kernelspec": {
   "display_name": "Python 3",
   "language": "python",
   "name": "python3"
  },
  "language_info": {
   "codemirror_mode": {
    "name": "ipython",
    "version": 3
   },
   "file_extension": ".py",
   "mimetype": "text/x-python",
   "name": "python",
   "nbconvert_exporter": "python",
   "pygments_lexer": "ipython3",
   "version": "3.12.1"
  }
 },
 "nbformat": 4,
 "nbformat_minor": 2
}
