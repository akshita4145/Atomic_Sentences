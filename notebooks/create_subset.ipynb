{
 "cells": [
  {
   "cell_type": "code",
   "execution_count": 1,
   "id": "0ac108e2",
   "metadata": {},
   "outputs": [
    {
     "name": "stdout",
     "output_type": "stream",
     "text": [
      "/Users/akshita/Desktop/FA 25/461/Atomic_Sentences/notebooks\n"
     ]
    }
   ],
   "source": [
    "import os\n",
    "print(os.getcwd())"
   ]
  },
  {
   "cell_type": "code",
   "execution_count": 2,
   "id": "af439809",
   "metadata": {},
   "outputs": [],
   "source": [
    "import pandas as pd\n",
    "\n",
    "# Notebook is in /notebooks, dataset is in /data\n",
    "df = pd.read_csv(\"../data/train.csv\")"
   ]
  },
  {
   "cell_type": "code",
   "execution_count": 3,
   "id": "84337e9a",
   "metadata": {},
   "outputs": [
    {
     "data": {
      "text/plain": [
       "(989944, 3)"
      ]
     },
     "execution_count": 3,
     "metadata": {},
     "output_type": "execute_result"
    }
   ],
   "source": [
    "df.shape"
   ]
  },
  {
   "cell_type": "code",
   "execution_count": null,
   "id": "c9ecfb37",
   "metadata": {},
   "outputs": [],
   "source": []
  },
  {
   "cell_type": "code",
   "execution_count": 4,
   "id": "c6690fa4",
   "metadata": {},
   "outputs": [
    {
     "data": {
      "text/html": [
       "<div>\n",
       "<style scoped>\n",
       "    .dataframe tbody tr th:only-of-type {\n",
       "        vertical-align: middle;\n",
       "    }\n",
       "\n",
       "    .dataframe tbody tr th {\n",
       "        vertical-align: top;\n",
       "    }\n",
       "\n",
       "    .dataframe thead th {\n",
       "        text-align: right;\n",
       "    }\n",
       "</style>\n",
       "<table border=\"1\" class=\"dataframe\">\n",
       "  <thead>\n",
       "    <tr style=\"text-align: right;\">\n",
       "      <th></th>\n",
       "      <th>complex_sentence</th>\n",
       "      <th>simple_sentence_1</th>\n",
       "      <th>simple_sentence_2</th>\n",
       "    </tr>\n",
       "  </thead>\n",
       "  <tbody>\n",
       "    <tr>\n",
       "      <th>50437</th>\n",
       "      <td>After the very heavy '' Dragontown '' album Al...</td>\n",
       "      <td>After the very heavy '' Dragontown '' album Al...</td>\n",
       "      <td>His place of birth , Detroit , where he accid...</td>\n",
       "    </tr>\n",
       "    <tr>\n",
       "      <th>833339</th>\n",
       "      <td>The museum runs a library with photographic bo...</td>\n",
       "      <td>The museum runs a library with photographic bo...</td>\n",
       "      <td>There is also a small museum store that sells...</td>\n",
       "    </tr>\n",
       "    <tr>\n",
       "      <th>467398</th>\n",
       "      <td>Jakobshavn Isbræ is a major contributor to the...</td>\n",
       "      <td>Jakobshavn Isbræ is a major contributor to the...</td>\n",
       "      <td>Some 35 billion tonnes of icebergs calve off ...</td>\n",
       "    </tr>\n",
       "    <tr>\n",
       "      <th>984593</th>\n",
       "      <td>Wright also played the part of Mufasa in the o...</td>\n",
       "      <td>Wright also played the part of Mufasa in the o...</td>\n",
       "      <td>Another accomplishment of his was voicing Kro...</td>\n",
       "    </tr>\n",
       "    <tr>\n",
       "      <th>379040</th>\n",
       "      <td>In 2007 , she wrote the piano piece '' The Kis...</td>\n",
       "      <td>In 2007 , she wrote the piano piece '' The Kis...</td>\n",
       "      <td>It was also used for Marks &amp; Spencer 's advert .</td>\n",
       "    </tr>\n",
       "  </tbody>\n",
       "</table>\n",
       "</div>"
      ],
      "text/plain": [
       "                                         complex_sentence  \\\n",
       "50437   After the very heavy '' Dragontown '' album Al...   \n",
       "833339  The museum runs a library with photographic bo...   \n",
       "467398  Jakobshavn Isbræ is a major contributor to the...   \n",
       "984593  Wright also played the part of Mufasa in the o...   \n",
       "379040  In 2007 , she wrote the piano piece '' The Kis...   \n",
       "\n",
       "                                        simple_sentence_1  \\\n",
       "50437   After the very heavy '' Dragontown '' album Al...   \n",
       "833339  The museum runs a library with photographic bo...   \n",
       "467398  Jakobshavn Isbræ is a major contributor to the...   \n",
       "984593  Wright also played the part of Mufasa in the o...   \n",
       "379040  In 2007 , she wrote the piano piece '' The Kis...   \n",
       "\n",
       "                                        simple_sentence_2  \n",
       "50437    His place of birth , Detroit , where he accid...  \n",
       "833339   There is also a small museum store that sells...  \n",
       "467398   Some 35 billion tonnes of icebergs calve off ...  \n",
       "984593   Another accomplishment of his was voicing Kro...  \n",
       "379040   It was also used for Marks & Spencer 's advert .  "
      ]
     },
     "execution_count": 4,
     "metadata": {},
     "output_type": "execute_result"
    }
   ],
   "source": [
    "subset = df.sample(n = 250, random_state=42)\n",
    "subset.head()"
   ]
  },
  {
   "cell_type": "code",
   "execution_count": 5,
   "id": "04a91d44",
   "metadata": {},
   "outputs": [
    {
     "name": "stdout",
     "output_type": "stream",
     "text": [
      "subset saved\n"
     ]
    }
   ],
   "source": [
    "subset.to_csv(\"../data/train_subset.csv\", index=False)\n",
    "print(\"subset saved\")"
   ]
  },
  {
   "cell_type": "code",
   "execution_count": null,
   "id": "95f2dfec",
   "metadata": {},
   "outputs": [],
   "source": []
  }
 ],
 "metadata": {
  "kernelspec": {
   "display_name": "Python 3",
   "language": "python",
   "name": "python3"
  },
  "language_info": {
   "codemirror_mode": {
    "name": "ipython",
    "version": 3
   },
   "file_extension": ".py",
   "mimetype": "text/x-python",
   "name": "python",
   "nbconvert_exporter": "python",
   "pygments_lexer": "ipython3",
   "version": "3.12.1"
  }
 },
 "nbformat": 4,
 "nbformat_minor": 5
}
