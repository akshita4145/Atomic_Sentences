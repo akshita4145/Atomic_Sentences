{
 "cells": [
  {
   "cell_type": "code",
   "execution_count": 2,
   "id": "746913a0",
   "metadata": {},
   "outputs": [
    {
     "data": {
      "text/html": [
       "<div>\n",
       "<style scoped>\n",
       "    .dataframe tbody tr th:only-of-type {\n",
       "        vertical-align: middle;\n",
       "    }\n",
       "\n",
       "    .dataframe tbody tr th {\n",
       "        vertical-align: top;\n",
       "    }\n",
       "\n",
       "    .dataframe thead th {\n",
       "        text-align: right;\n",
       "    }\n",
       "</style>\n",
       "<table border=\"1\" class=\"dataframe\">\n",
       "  <thead>\n",
       "    <tr style=\"text-align: right;\">\n",
       "      <th></th>\n",
       "      <th>complex_sentence</th>\n",
       "      <th>simple_sentence_1</th>\n",
       "      <th>simple_sentence_2</th>\n",
       "    </tr>\n",
       "  </thead>\n",
       "  <tbody>\n",
       "    <tr>\n",
       "      <th>0</th>\n",
       "      <td>After the very heavy '' Dragontown '' album Al...</td>\n",
       "      <td>After the very heavy '' Dragontown '' album Al...</td>\n",
       "      <td>His place of birth , Detroit , where he accid...</td>\n",
       "    </tr>\n",
       "    <tr>\n",
       "      <th>1</th>\n",
       "      <td>The museum runs a library with photographic bo...</td>\n",
       "      <td>The museum runs a library with photographic bo...</td>\n",
       "      <td>There is also a small museum store that sells...</td>\n",
       "    </tr>\n",
       "    <tr>\n",
       "      <th>2</th>\n",
       "      <td>Jakobshavn Isbræ is a major contributor to the...</td>\n",
       "      <td>Jakobshavn Isbræ is a major contributor to the...</td>\n",
       "      <td>Some 35 billion tonnes of icebergs calve off ...</td>\n",
       "    </tr>\n",
       "    <tr>\n",
       "      <th>3</th>\n",
       "      <td>Wright also played the part of Mufasa in the o...</td>\n",
       "      <td>Wright also played the part of Mufasa in the o...</td>\n",
       "      <td>Another accomplishment of his was voicing Kro...</td>\n",
       "    </tr>\n",
       "    <tr>\n",
       "      <th>4</th>\n",
       "      <td>In 2007 , she wrote the piano piece '' The Kis...</td>\n",
       "      <td>In 2007 , she wrote the piano piece '' The Kis...</td>\n",
       "      <td>It was also used for Marks &amp; Spencer 's advert .</td>\n",
       "    </tr>\n",
       "  </tbody>\n",
       "</table>\n",
       "</div>"
      ],
      "text/plain": [
       "                                    complex_sentence  \\\n",
       "0  After the very heavy '' Dragontown '' album Al...   \n",
       "1  The museum runs a library with photographic bo...   \n",
       "2  Jakobshavn Isbræ is a major contributor to the...   \n",
       "3  Wright also played the part of Mufasa in the o...   \n",
       "4  In 2007 , she wrote the piano piece '' The Kis...   \n",
       "\n",
       "                                   simple_sentence_1  \\\n",
       "0  After the very heavy '' Dragontown '' album Al...   \n",
       "1  The museum runs a library with photographic bo...   \n",
       "2  Jakobshavn Isbræ is a major contributor to the...   \n",
       "3  Wright also played the part of Mufasa in the o...   \n",
       "4  In 2007 , she wrote the piano piece '' The Kis...   \n",
       "\n",
       "                                   simple_sentence_2  \n",
       "0   His place of birth , Detroit , where he accid...  \n",
       "1   There is also a small museum store that sells...  \n",
       "2   Some 35 billion tonnes of icebergs calve off ...  \n",
       "3   Another accomplishment of his was voicing Kro...  \n",
       "4   It was also used for Marks & Spencer 's advert .  "
      ]
     },
     "execution_count": 2,
     "metadata": {},
     "output_type": "execute_result"
    }
   ],
   "source": [
    "import pandas as pd\n",
    "df = pd.read_csv('../data/train_subset.csv')\n",
    "df.head()"
   ]
  },
  {
   "cell_type": "code",
   "execution_count": null,
   "id": "5428a191",
   "metadata": {},
   "outputs": [],
   "source": []
  },
  {
   "cell_type": "code",
   "execution_count": null,
   "id": "64efc1f3",
   "metadata": {},
   "outputs": [],
   "source": []
  }
 ],
 "metadata": {
  "kernelspec": {
   "display_name": "Python 3",
   "language": "python",
   "name": "python3"
  },
  "language_info": {
   "codemirror_mode": {
    "name": "ipython",
    "version": 3
   },
   "file_extension": ".py",
   "mimetype": "text/x-python",
   "name": "python",
   "nbconvert_exporter": "python",
   "pygments_lexer": "ipython3",
   "version": "3.12.1"
  }
 },
 "nbformat": 4,
 "nbformat_minor": 5
}
